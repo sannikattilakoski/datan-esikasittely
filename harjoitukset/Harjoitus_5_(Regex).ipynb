{
 "cells": [
  {
   "cell_type": "markdown",
   "metadata": {},
   "source": [
    "# Regex-tehtävät"
   ]
  },
  {
   "cell_type": "markdown",
   "metadata": {},
   "source": [
    "Regex-tehtäväosiossa käytetään kyseistä syntaksia esimerkkitekstiin, jonka pohja on haettu täältä: https://loremipsum.io/."
   ]
  },
  {
   "cell_type": "code",
   "execution_count": 1,
   "metadata": {},
   "outputs": [],
   "source": [
    "example_text = \"Lorem ipsum dolorolo at sit amet, consectetur ipsumm adipiscing elit, sed do eiusmod tempor incididunt ut labore et dolore magna aliqua. Ut enim ad minim veniam, quis nostrud exercitation ullamco (laboris) nisi ut (aliquip) ex ea commodo consequat. [192.168.1.1:8080] Duis aute irure dolor in reprehenderit in voluptate velit esse cillum dolore eu fugiat nulla pariatur. Excepteur sint occaecat cupidatat non proident, sunt in culpa qui officia deserunt mollit anim id est laborum. [192.168.1.254:80]\""
   ]
  },
  {
   "cell_type": "markdown",
   "metadata": {},
   "source": [
    "#### Tehtävä 1. Lisää tarvittavat kirjastot"
   ]
  },
  {
   "cell_type": "code",
   "execution_count": 2,
   "metadata": {},
   "outputs": [],
   "source": [
    "import re"
   ]
  },
  {
   "cell_type": "markdown",
   "metadata": {},
   "source": [
    "#### Tehtävä 2. Etsi tekstistä kuinka monta kertaa sana `ipsum` esiintyy"
   ]
  },
  {
   "cell_type": "code",
   "execution_count": 3,
   "metadata": {},
   "outputs": [
    {
     "data": {
      "text/plain": [
       "['ipsum']"
      ]
     },
     "execution_count": 3,
     "metadata": {},
     "output_type": "execute_result"
    }
   ],
   "source": [
    "# Etsitään sanaa \"ipsum\"\n",
    "re_pattern = r'\\bipsum\\b'\n",
    "\n",
    "# Haetaan kaikki ipsum sanat tekstistä\n",
    "re_search = re.findall(re_pattern, example_text)\n",
    "    \n",
    "re_search\n",
    "# len(re_search)"
   ]
  },
  {
   "cell_type": "markdown",
   "metadata": {},
   "source": [
    "#### Tehtävä 3. Etsi tekstistä kuinka monta kertaa merkkijono (ei siis sana!) `ipsum` esiintyy"
   ]
  },
  {
   "cell_type": "code",
   "execution_count": 4,
   "metadata": {},
   "outputs": [
    {
     "data": {
      "text/plain": [
       "['ipsum', 'ipsum']"
      ]
     },
     "execution_count": 4,
     "metadata": {},
     "output_type": "execute_result"
    }
   ],
   "source": [
    "#Etsitään merkkijonoa \"ipsum\"\n",
    "re_pattern = r'ipsum'\n",
    "\n",
    "# Haetaan kaikki ipsum merkkijonot tekstistä\n",
    "re_search = re.findall(re_pattern, example_text)\n",
    "\n",
    "re_search\n",
    "#len(re_search)"
   ]
  },
  {
   "cell_type": "markdown",
   "metadata": {},
   "source": [
    "#### Tehtävä 4. Hae tekstistä kaikki sanan `Excepteur` jälkeen (Huom: sanaa Excepteur ei oteta mukaan tulosteeseen!)"
   ]
  },
  {
   "cell_type": "code",
   "execution_count": 5,
   "metadata": {},
   "outputs": [
    {
     "data": {
      "text/plain": [
       "[' sint occaecat cupidatat non proident, sunt in culpa qui officia deserunt mollit anim id est laborum. [192.168.1.254:80']"
      ]
     },
     "execution_count": 5,
     "metadata": {},
     "output_type": "execute_result"
    }
   ],
   "source": [
    "re_pattern = r'\\b(?<=Excepteur).*\\b'\n",
    "re_search = re.findall(re_pattern, example_text)\n",
    "re_search"
   ]
  },
  {
   "cell_type": "markdown",
   "metadata": {},
   "source": [
    "#### Tehtävä 5. Etsi kaikki sanat, jotka ovat sulkujen `()` sisällä"
   ]
  },
  {
   "cell_type": "code",
   "execution_count": 6,
   "metadata": {},
   "outputs": [
    {
     "data": {
      "text/plain": [
       "['laboris', 'aliquip']"
      ]
     },
     "execution_count": 6,
     "metadata": {},
     "output_type": "execute_result"
    }
   ],
   "source": [
    "re_pattern = '\\((.*?)\\)'\n",
    "re_search = re.findall(re_pattern, example_text)\n",
    "re_search"
   ]
  },
  {
   "cell_type": "markdown",
   "metadata": {},
   "source": [
    "#### Tehtävä 6. Valitse kaikki sanat, jotka päättyvät merkkeihin `at`."
   ]
  },
  {
   "cell_type": "code",
   "execution_count": 7,
   "metadata": {},
   "outputs": [
    {
     "data": {
      "text/plain": [
       "['at', 'consequat', 'fugiat', 'occaecat', 'cupidatat']"
      ]
     },
     "execution_count": 7,
     "metadata": {},
     "output_type": "execute_result"
    }
   ],
   "source": [
    "re_pattern = r'\\b\\w*at\\b'\n",
    "re_search = re.findall(re_pattern, example_text)\n",
    "\n",
    "re_search"
   ]
  },
  {
   "cell_type": "markdown",
   "metadata": {},
   "source": [
    "#### Tehtävä 7. Etsi sanat, jotka sisältävät merkkijonon `olo`, mutta eivät ala tai pääty kyseisellä merkkijonolla"
   ]
  },
  {
   "cell_type": "code",
   "execution_count": 8,
   "metadata": {},
   "outputs": [
    {
     "data": {
      "text/plain": [
       "['dolore', 'dolor', 'dolore']"
      ]
     },
     "execution_count": 8,
     "metadata": {},
     "output_type": "execute_result"
    }
   ],
   "source": [
    "re_pattern = r'\\b\\w+olo\\w+\\b'\n",
    "re_search = re.findall(re_pattern, example_text)\n",
    "\n",
    "re_pattern = re.compile(r'(?!(^olo.*))(?!(.*olo$))')\n",
    "words = list(filter(re_pattern.match, re_search))\n",
    "words"
   ]
  },
  {
   "cell_type": "markdown",
   "metadata": {},
   "source": [
    "#### Tehtävä 8. Etsi seuraava kaikki osoitteet, jotka ovat muotoa ip-osoite:porttinumero (esim. 192.168.1.1:8080) ilman staattista hakua tai `r'\\[.*?\\]'`/vastaavaa kaiken hakasulkeiden sisältä palauttavaa syntaksia."
   ]
  },
  {
   "cell_type": "code",
   "execution_count": 9,
   "metadata": {},
   "outputs": [
    {
     "data": {
      "text/plain": [
       "['192.168.1.1:8080', '192.168.1.254:80']"
      ]
     },
     "execution_count": 9,
     "metadata": {},
     "output_type": "execute_result"
    }
   ],
   "source": [
    "# \n",
    "re_pattern = r'[0-9]+.[0-9]+.[0-9]+.[0-9]+:[0-9]+'\n",
    "re_search = re.findall(re_pattern, example_text)\n",
    "re_search"
   ]
  },
  {
   "cell_type": "code",
   "execution_count": null,
   "metadata": {},
   "outputs": [],
   "source": []
  }
 ],
 "metadata": {
  "kernelspec": {
   "display_name": "Python 3 (ipykernel)",
   "language": "python",
   "name": "python3"
  },
  "language_info": {
   "codemirror_mode": {
    "name": "ipython",
    "version": 3
   },
   "file_extension": ".py",
   "mimetype": "text/x-python",
   "name": "python",
   "nbconvert_exporter": "python",
   "pygments_lexer": "ipython3",
   "version": "3.9.13"
  }
 },
 "nbformat": 4,
 "nbformat_minor": 4
}
