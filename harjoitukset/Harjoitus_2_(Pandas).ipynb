{
 "cells": [
  {
   "cell_type": "markdown",
   "metadata": {},
   "source": [
    "## Pandas-tehtävät OSA 2"
   ]
  },
  {
   "cell_type": "markdown",
   "metadata": {},
   "source": [
    "#### Tehtävä 1. Lue edellisen harjoituksen lopussa tallennetun data_export.csv-tiedoston sisältö dataframeen siten, että Unnamed 0 -saraketta ei synny tiedoston lukemisen yhteydessä."
   ]
  },
  {
   "cell_type": "code",
   "execution_count": 1,
   "metadata": {},
   "outputs": [],
   "source": [
    "import pandas as pd"
   ]
  },
  {
   "cell_type": "code",
   "execution_count": 2,
   "metadata": {},
   "outputs": [
    {
     "data": {
      "text/html": [
       "<div>\n",
       "<style scoped>\n",
       "    .dataframe tbody tr th:only-of-type {\n",
       "        vertical-align: middle;\n",
       "    }\n",
       "\n",
       "    .dataframe tbody tr th {\n",
       "        vertical-align: top;\n",
       "    }\n",
       "\n",
       "    .dataframe thead th {\n",
       "        text-align: right;\n",
       "    }\n",
       "</style>\n",
       "<table border=\"1\" class=\"dataframe\">\n",
       "  <thead>\n",
       "    <tr style=\"text-align: right;\">\n",
       "      <th></th>\n",
       "      <th>sarake1</th>\n",
       "      <th>sarake2</th>\n",
       "      <th>sarake3</th>\n",
       "    </tr>\n",
       "  </thead>\n",
       "  <tbody>\n",
       "    <tr>\n",
       "      <th>0</th>\n",
       "      <td>NaN</td>\n",
       "      <td>0.380058</td>\n",
       "      <td>0.919389</td>\n",
       "    </tr>\n",
       "    <tr>\n",
       "      <th>1</th>\n",
       "      <td>0.922251</td>\n",
       "      <td>0.490721</td>\n",
       "      <td>0.133932</td>\n",
       "    </tr>\n",
       "    <tr>\n",
       "      <th>2</th>\n",
       "      <td>0.363707</td>\n",
       "      <td>0.878349</td>\n",
       "      <td>0.485700</td>\n",
       "    </tr>\n",
       "    <tr>\n",
       "      <th>3</th>\n",
       "      <td>0.323134</td>\n",
       "      <td>0.036466</td>\n",
       "      <td>0.186775</td>\n",
       "    </tr>\n",
       "    <tr>\n",
       "      <th>4</th>\n",
       "      <td>0.467610</td>\n",
       "      <td>0.850993</td>\n",
       "      <td>0.377558</td>\n",
       "    </tr>\n",
       "    <tr>\n",
       "      <th>5</th>\n",
       "      <td>0.303299</td>\n",
       "      <td>0.096971</td>\n",
       "      <td>0.451031</td>\n",
       "    </tr>\n",
       "    <tr>\n",
       "      <th>6</th>\n",
       "      <td>0.733485</td>\n",
       "      <td>0.591996</td>\n",
       "      <td>0.658924</td>\n",
       "    </tr>\n",
       "    <tr>\n",
       "      <th>7</th>\n",
       "      <td>0.641628</td>\n",
       "      <td>0.251886</td>\n",
       "      <td>0.274987</td>\n",
       "    </tr>\n",
       "    <tr>\n",
       "      <th>8</th>\n",
       "      <td>0.319906</td>\n",
       "      <td>0.489200</td>\n",
       "      <td>0.990319</td>\n",
       "    </tr>\n",
       "    <tr>\n",
       "      <th>9</th>\n",
       "      <td>0.780267</td>\n",
       "      <td>0.458454</td>\n",
       "      <td>0.053428</td>\n",
       "    </tr>\n",
       "    <tr>\n",
       "      <th>10</th>\n",
       "      <td>0.935875</td>\n",
       "      <td>0.698276</td>\n",
       "      <td>0.446885</td>\n",
       "    </tr>\n",
       "    <tr>\n",
       "      <th>11</th>\n",
       "      <td>0.273193</td>\n",
       "      <td>0.300307</td>\n",
       "      <td>0.768270</td>\n",
       "    </tr>\n",
       "    <tr>\n",
       "      <th>12</th>\n",
       "      <td>0.467060</td>\n",
       "      <td>0.225161</td>\n",
       "      <td>0.911570</td>\n",
       "    </tr>\n",
       "    <tr>\n",
       "      <th>13</th>\n",
       "      <td>0.300589</td>\n",
       "      <td>0.455980</td>\n",
       "      <td>0.292225</td>\n",
       "    </tr>\n",
       "    <tr>\n",
       "      <th>14</th>\n",
       "      <td>0.859970</td>\n",
       "      <td>0.346539</td>\n",
       "      <td>0.364629</td>\n",
       "    </tr>\n",
       "    <tr>\n",
       "      <th>15</th>\n",
       "      <td>0.842364</td>\n",
       "      <td>0.093485</td>\n",
       "      <td>0.662066</td>\n",
       "    </tr>\n",
       "    <tr>\n",
       "      <th>16</th>\n",
       "      <td>0.781693</td>\n",
       "      <td>0.573344</td>\n",
       "      <td>0.815692</td>\n",
       "    </tr>\n",
       "    <tr>\n",
       "      <th>17</th>\n",
       "      <td>0.788949</td>\n",
       "      <td>0.945625</td>\n",
       "      <td>0.852690</td>\n",
       "    </tr>\n",
       "  </tbody>\n",
       "</table>\n",
       "</div>"
      ],
      "text/plain": [
       "     sarake1   sarake2   sarake3\n",
       "0        NaN  0.380058  0.919389\n",
       "1   0.922251  0.490721  0.133932\n",
       "2   0.363707  0.878349  0.485700\n",
       "3   0.323134  0.036466  0.186775\n",
       "4   0.467610  0.850993  0.377558\n",
       "5   0.303299  0.096971  0.451031\n",
       "6   0.733485  0.591996  0.658924\n",
       "7   0.641628  0.251886  0.274987\n",
       "8   0.319906  0.489200  0.990319\n",
       "9   0.780267  0.458454  0.053428\n",
       "10  0.935875  0.698276  0.446885\n",
       "11  0.273193  0.300307  0.768270\n",
       "12  0.467060  0.225161  0.911570\n",
       "13  0.300589  0.455980  0.292225\n",
       "14  0.859970  0.346539  0.364629\n",
       "15  0.842364  0.093485  0.662066\n",
       "16  0.781693  0.573344  0.815692\n",
       "17  0.788949  0.945625  0.852690"
      ]
     },
     "execution_count": 2,
     "metadata": {},
     "output_type": "execute_result"
    }
   ],
   "source": [
    "dataset = pd.read_csv(\"data_export.csv\")\n",
    "dataset"
   ]
  },
  {
   "cell_type": "markdown",
   "metadata": {},
   "source": [
    "#### Tehtävä 2. Pudota rivit, joissa esiintyy nan-arvo"
   ]
  },
  {
   "cell_type": "code",
   "execution_count": 319,
   "metadata": {},
   "outputs": [],
   "source": [
    "#"
   ]
  },
  {
   "cell_type": "markdown",
   "metadata": {},
   "source": [
    "#### Tehtävä 3. Muuta viidennen ja kymmenennen rivin kaikiksi arvoiksi nan"
   ]
  },
  {
   "cell_type": "code",
   "execution_count": 320,
   "metadata": {},
   "outputs": [],
   "source": [
    "#"
   ]
  },
  {
   "cell_type": "markdown",
   "metadata": {},
   "source": [
    "#### Tehtävä 4. Tulosta nan-arvojen määrä jokaisesta sarakkeesta DataFrame-objektista"
   ]
  },
  {
   "cell_type": "code",
   "execution_count": 321,
   "metadata": {},
   "outputs": [],
   "source": [
    "#"
   ]
  },
  {
   "cell_type": "markdown",
   "metadata": {},
   "source": [
    "#### Tehtävä 5. Täytä edellä tehdyt nan-arvot lineaarisella interpolaatiolla"
   ]
  },
  {
   "cell_type": "code",
   "execution_count": 322,
   "metadata": {},
   "outputs": [],
   "source": [
    "#"
   ]
  },
  {
   "cell_type": "markdown",
   "metadata": {},
   "source": [
    "#### Tehtävä 6. Vaihda `sarake1`:n viimeiseksi arvoksi 94 ja `sarake3`:n viimeiseksi arvoksi 45"
   ]
  },
  {
   "cell_type": "code",
   "execution_count": 323,
   "metadata": {},
   "outputs": [],
   "source": [
    "#"
   ]
  },
  {
   "cell_type": "markdown",
   "metadata": {},
   "source": [
    "#### Tehtävä 7. Lisää uusi sarake DataFrame-objektiin (`sarake4`), joka koostuu sarakkeiden `sarake1` ja `sarake3` summasta"
   ]
  },
  {
   "cell_type": "code",
   "execution_count": 324,
   "metadata": {},
   "outputs": [],
   "source": [
    "#"
   ]
  },
  {
   "cell_type": "markdown",
   "metadata": {},
   "source": [
    "#### Tehtävä 8. Resetoi DataFrame-objektin indeksi ja tulosta rivien määrä"
   ]
  },
  {
   "cell_type": "code",
   "execution_count": 325,
   "metadata": {},
   "outputs": [],
   "source": [
    "#"
   ]
  },
  {
   "cell_type": "markdown",
   "metadata": {},
   "source": [
    "#### Tehtävä 9. Tee DataFrame-objektin mittainen aikasarjadata haluamallasi aikavälillä ja tee siitä indeksisarake"
   ]
  },
  {
   "cell_type": "code",
   "execution_count": 326,
   "metadata": {},
   "outputs": [],
   "source": [
    "#"
   ]
  },
  {
   "cell_type": "markdown",
   "metadata": {},
   "source": [
    "#### Tehtävä 10. Muuta `sarake1` kaikki arvot merkkijonoiksi, joissa jokainen nolla on korvattu isolla 'ND'-kirjainyhdistelmällä."
   ]
  },
  {
   "cell_type": "code",
   "execution_count": 327,
   "metadata": {},
   "outputs": [],
   "source": [
    "#"
   ]
  },
  {
   "cell_type": "markdown",
   "metadata": {},
   "source": [
    "#### Tehtävä 11. Tee DataFrame-objektista kopio, jonka sarakkeiden nimet on muutettu seuraaviksi : `sarake5`, `sarake6`, `sarake7`, `sarake8`. Tämän jälkeen tee yksi iso DataFrame-objekti, joka koostuu alkuperäisestä DataFramesta sekä kopiosta niin, että ne on lisätty vierekkäin.\n",
    "\n",
    "\n",
    "| sarake1        | sarake2           | sarake3  | sarake4 | sarake5      | sarake6 | sarake7 | sarake8 |\n",
    "| ------------- |:-------------:| -----:| ------------- |:-------------:| -----:|-----:|-----:|\n",
    "| 0.1      | 0.2 | 0.3 | ... | ...  | ... | ... | ... |"
   ]
  },
  {
   "cell_type": "code",
   "execution_count": 328,
   "metadata": {},
   "outputs": [],
   "source": [
    "#"
   ]
  },
  {
   "cell_type": "markdown",
   "metadata": {},
   "source": [
    "#### Tehtävä 12. Sijoita `sarake5`:n viimeinen arvo muuttujaan sekä `sarake3`:n viimeinen arvo erilliseen muuttujaan juuri tehdystä DataFrame-objektista merkkijonomuodossa. Yhdistä kyseiset muuttujat merkkijonona ja poista kaksi viimeistä merkkiä lopputuloksesta. Lopuksi poista kaikki pisteet `.`."
   ]
  },
  {
   "cell_type": "code",
   "execution_count": 329,
   "metadata": {},
   "outputs": [],
   "source": [
    "#"
   ]
  }
 ],
 "metadata": {
  "kernelspec": {
   "display_name": "Python 3 (ipykernel)",
   "language": "python",
   "name": "python3"
  },
  "language_info": {
   "codemirror_mode": {
    "name": "ipython",
    "version": 3
   },
   "file_extension": ".py",
   "mimetype": "text/x-python",
   "name": "python",
   "nbconvert_exporter": "python",
   "pygments_lexer": "ipython3",
   "version": "3.9.13"
  }
 },
 "nbformat": 4,
 "nbformat_minor": 4
}
