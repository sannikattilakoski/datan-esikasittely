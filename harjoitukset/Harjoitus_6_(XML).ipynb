{
 "cells": [
  {
   "cell_type": "markdown",
   "id": "bf5b28d9",
   "metadata": {},
   "source": [
    "# XML-tehtävät"
   ]
  },
  {
   "cell_type": "markdown",
   "id": "5ac93545",
   "metadata": {},
   "source": [
    "#### Tehtävä 1. Lisää tarvittavat kirjastot (xml ja pandas)."
   ]
  },
  {
   "cell_type": "code",
   "execution_count": 1,
   "id": "4b637c85",
   "metadata": {},
   "outputs": [],
   "source": [
    "# \n",
    "import xml.etree.ElementTree as e\n",
    "import pandas as pd"
   ]
  },
  {
   "cell_type": "markdown",
   "id": "f271d221",
   "metadata": {},
   "source": [
    "#### Tehtävä 2. Tallenna alapuolella esitetty xml-rakenne merkkijonona muuttujaan. Lisäksi lataa toiseen muuttujaan sisältö tiedostosta *users_first.xml*."
   ]
  },
  {
   "cell_type": "code",
   "execution_count": 4,
   "id": "7773587a",
   "metadata": {},
   "outputs": [],
   "source": [
    "# <?xml version='1.0' encoding='UTF-8'?><records><record type='customer'><name>Lawrence Burke</name><phone>(815) 571-8746</phone><email>vulputate.lacus@elitfermentum.net</email><address><streetaddress>P.O. Box 478, 5254 Mi St.</streetaddress><country>Mexico</country><postalZip>22044</postalZip></address></record><record type='employee'><name>Angela Hinton</name><phone>(997) 412-6965</phone><email>elit.dictum@egestas.net</email><address><streetaddress>696-4409 Nunc Rd.</streetaddress><country>Germany</country><postalZip>661217</postalZip></address></record><record type='customer'><name>Whitney Flowers</name><phone>1-573-471-9738</phone><email>consectetuer.adipiscing.elit@ridiculusmus.ca</email><address><streetaddress>6978 Et, Av.</streetaddress><country>Indonesia</country><postalZip>28164</postalZip></address></record><record type='customer'><name>Darius Burt</name><phone>1-675-212-4934</phone><email>sociis.natoque@ut.org</email><address><streetaddress>7705 Ut Street</streetaddress><country>Indonesia</country><postalZip>94783-300</postalZip></address></record><record type='customer'><name>Solomon Blair</name><phone></phone><email>pede.suspendisse.dui@commodoat.edu</email><address><streetaddress>Ap #877-8946 Sociosqu Street</streetaddress><country>Germany</country><postalZip>113513</postalZip></address></record></records>"
   ]
  },
  {
   "cell_type": "code",
   "execution_count": 2,
   "id": "b7265de8",
   "metadata": {},
   "outputs": [],
   "source": [
    "#\n",
    "records = \"<?xml version='1.0' encoding='UTF-8'?><records><record type='customer'><name>Lawrence Burke</name><phone>(815) 571-8746</phone><email>vulputate.lacus@elitfermentum.net</email><address><streetaddress>P.O. Box 478, 5254 Mi St.</streetaddress><country>Mexico</country><postalZip>22044</postalZip></address></record><record type='employee'><name>Angela Hinton</name><phone>(997) 412-6965</phone><email>elit.dictum@egestas.net</email><address><streetaddress>696-4409 Nunc Rd.</streetaddress><country>Germany</country><postalZip>661217</postalZip></address></record><record type='customer'><name>Whitney Flowers</name><phone>1-573-471-9738</phone><email>consectetuer.adipiscing.elit@ridiculusmus.ca</email><address><streetaddress>6978 Et, Av.</streetaddress><country>Indonesia</country><postalZip>28164</postalZip></address></record><record type='customer'><name>Darius Burt</name><phone>1-675-212-4934</phone><email>sociis.natoque@ut.org</email><address><streetaddress>7705 Ut Street</streetaddress><country>Indonesia</country><postalZip>94783-300</postalZip></address></record><record type='customer'><name>Solomon Blair</name><phone></phone><email>pede.suspendisse.dui@commodoat.edu</email><address><streetaddress>Ap #877-8946 Sociosqu Street</streetaddress><country>Germany</country><postalZip>113513</postalZip></address></record></records>\"\n",
    "root = e.fromstring(records)\n",
    "\n",
    "users = e.parse(\"users_first.xml\")\n",
    "root2 = users.getroot()"
   ]
  },
  {
   "cell_type": "markdown",
   "id": "700afb30",
   "metadata": {},
   "source": [
    "#### Tehtävä 3. Muodosta molempien muuttujien sisällöistä listat C1 ja C2, joihin tallennetaan xml-datan sisällöt dictionary-tyyppisinä objekteina. HUOM: record-tasolla esitetyt attribuutit tulee ottaa mukaan objekteihin ja address-tunnisteen alla olevat tunnisteet tulee tuoda ylemmälle tasolle käyttäjän muiden ominaisuuksien kanssa!\n",
    "\n",
    "#### Alapuolella on esitetty malli, jossa ensimmäisen objektin rakenne on esitetty:\n",
    "\n",
    "[{'type': 'customer', 'name': 'Morgan Sykes', 'phone': '1-183-546-6564', 'email': 'lorem.auctor@vulputatemauris.net', 'streetaddress': '2594 Tellus St.', 'country': 'Russian Federation', 'postalZip': '584585'},...]"
   ]
  },
  {
   "cell_type": "code",
   "execution_count": 12,
   "id": "e4d0c662",
   "metadata": {},
   "outputs": [
    {
     "data": {
      "text/plain": [
       "[{'type': 'customer',\n",
       "  'name': 'Lawrence Burke',\n",
       "  'phone': '(815) 571-8746',\n",
       "  'email': 'vulputate.lacus@elitfermentum.net',\n",
       "  'streetaddress': 'P.O. Box 478, 5254 Mi St.',\n",
       "  'country': 'Mexico',\n",
       "  'postalZip': '22044'},\n",
       " {'type': 'employee',\n",
       "  'name': 'Angela Hinton',\n",
       "  'phone': '(997) 412-6965',\n",
       "  'email': 'elit.dictum@egestas.net',\n",
       "  'streetaddress': '696-4409 Nunc Rd.',\n",
       "  'country': 'Germany',\n",
       "  'postalZip': '661217'}]"
      ]
     },
     "execution_count": 12,
     "metadata": {},
     "output_type": "execute_result"
    }
   ],
   "source": [
    "#\n",
    "record_list = []\n",
    "\n",
    "for i in root:\n",
    "    record_obj = {}\n",
    "    record_obj[\"type\"] = i.attrib[\"type\"]\n",
    "    for j in i:\n",
    "        if j.tag != \"address\":\n",
    "            record_obj[j.tag] = j.text\n",
    "        else:\n",
    "            for k in j:\n",
    "                record_obj[k.tag] = k.text\n",
    "    record_list.append(record_obj)\n",
    "record_list[:2]"
   ]
  },
  {
   "cell_type": "code",
   "execution_count": 15,
   "id": "1371d169-f13f-47ba-9140-82a66600c3b3",
   "metadata": {
    "tags": []
   },
   "outputs": [
    {
     "data": {
      "text/plain": [
       "[{'type': 'customer',\n",
       "  'name': 'Morgan Sykes',\n",
       "  'phone': '1-183-546-6564',\n",
       "  'email': 'lorem.auctor@vulputatemauris.net',\n",
       "  'streetaddress': '2594 Tellus St.',\n",
       "  'country': 'Russian Federation',\n",
       "  'postalZip': '584585'},\n",
       " {'type': 'employee',\n",
       "  'name': 'Zia Stafford',\n",
       "  'phone': '(621) 483-5714',\n",
       "  'email': 'ornare.fusce@felisdonec.co.uk',\n",
       "  'streetaddress': 'Ap #419-5905 Nibh Rd.',\n",
       "  'country': 'Netherlands',\n",
       "  'postalZip': '7308'}]"
      ]
     },
     "execution_count": 15,
     "metadata": {},
     "output_type": "execute_result"
    }
   ],
   "source": [
    "person_list = []\n",
    "\n",
    "for i in root2:\n",
    "    person_obj = {}\n",
    "    person_obj[\"type\"] = i.attrib[\"type\"]\n",
    "    for j in i:\n",
    "        if j.tag != \"address\":\n",
    "            person_obj[j.tag] = j.text\n",
    "        else:\n",
    "            for k in j:\n",
    "                person_obj[k.tag] = k.text\n",
    "    person_list.append(person_obj)\n",
    "person_list[:2]"
   ]
  },
  {
   "cell_type": "markdown",
   "id": "0d38fcad",
   "metadata": {},
   "source": [
    "#### Tehtävä 4. Muunna molemmat listat dataframeiksi ja yhdistä ne lopuksi yhdeksi dataframeksi (muista resetoida uuden dataframen indeksi!). Tulosta muodostetun dataframen sisältö."
   ]
  },
  {
   "cell_type": "code",
   "execution_count": 19,
   "id": "c3e0dc1d",
   "metadata": {},
   "outputs": [
    {
     "data": {
      "text/html": [
       "<div>\n",
       "<style scoped>\n",
       "    .dataframe tbody tr th:only-of-type {\n",
       "        vertical-align: middle;\n",
       "    }\n",
       "\n",
       "    .dataframe tbody tr th {\n",
       "        vertical-align: top;\n",
       "    }\n",
       "\n",
       "    .dataframe thead th {\n",
       "        text-align: right;\n",
       "    }\n",
       "</style>\n",
       "<table border=\"1\" class=\"dataframe\">\n",
       "  <thead>\n",
       "    <tr style=\"text-align: right;\">\n",
       "      <th></th>\n",
       "      <th>type</th>\n",
       "      <th>name</th>\n",
       "      <th>phone</th>\n",
       "      <th>email</th>\n",
       "      <th>streetaddress</th>\n",
       "      <th>country</th>\n",
       "      <th>postalZip</th>\n",
       "    </tr>\n",
       "  </thead>\n",
       "  <tbody>\n",
       "    <tr>\n",
       "      <th>0</th>\n",
       "      <td>customer</td>\n",
       "      <td>Morgan Sykes</td>\n",
       "      <td>1-183-546-6564</td>\n",
       "      <td>lorem.auctor@vulputatemauris.net</td>\n",
       "      <td>2594 Tellus St.</td>\n",
       "      <td>Russian Federation</td>\n",
       "      <td>584585</td>\n",
       "    </tr>\n",
       "    <tr>\n",
       "      <th>1</th>\n",
       "      <td>employee</td>\n",
       "      <td>Zia Stafford</td>\n",
       "      <td>(621) 483-5714</td>\n",
       "      <td>ornare.fusce@felisdonec.co.uk</td>\n",
       "      <td>Ap #419-5905 Nibh Rd.</td>\n",
       "      <td>Netherlands</td>\n",
       "      <td>7308</td>\n",
       "    </tr>\n",
       "    <tr>\n",
       "      <th>2</th>\n",
       "      <td>employee</td>\n",
       "      <td>Cooper Ramirez</td>\n",
       "      <td>(716) 895-3353</td>\n",
       "      <td>suspendisse@consectetueradipiscingelit.edu</td>\n",
       "      <td>667-4582 Mollis Ave</td>\n",
       "      <td>India</td>\n",
       "      <td>43714</td>\n",
       "    </tr>\n",
       "    <tr>\n",
       "      <th>3</th>\n",
       "      <td>customer</td>\n",
       "      <td>Richard Armstrong</td>\n",
       "      <td>(450) 317-2624</td>\n",
       "      <td>lacinia.mattis@urna.org</td>\n",
       "      <td>Ap #120-495 Ut, Road</td>\n",
       "      <td>Russian Federation</td>\n",
       "      <td>53415</td>\n",
       "    </tr>\n",
       "    <tr>\n",
       "      <th>4</th>\n",
       "      <td>employee</td>\n",
       "      <td>Flavia Delaney</td>\n",
       "      <td>None</td>\n",
       "      <td>rutrum.lorem.ac@inmagna.org</td>\n",
       "      <td>870-3073 Et, Av.</td>\n",
       "      <td>Austria</td>\n",
       "      <td>03247</td>\n",
       "    </tr>\n",
       "    <tr>\n",
       "      <th>5</th>\n",
       "      <td>customer</td>\n",
       "      <td>Branden Henderson</td>\n",
       "      <td>1-314-584-1088</td>\n",
       "      <td>iaculis@felisnullatempor.ca</td>\n",
       "      <td>P.O. Box 961, 9477 Gravida Avenue</td>\n",
       "      <td>Pakistan</td>\n",
       "      <td>50217</td>\n",
       "    </tr>\n",
       "    <tr>\n",
       "      <th>6</th>\n",
       "      <td>employee</td>\n",
       "      <td>Hector Kirkland</td>\n",
       "      <td>(325) 535-9750</td>\n",
       "      <td>elit@orcilacus.org</td>\n",
       "      <td>541-4061 Ultricies Ave</td>\n",
       "      <td>United Kingdom</td>\n",
       "      <td>3865</td>\n",
       "    </tr>\n",
       "    <tr>\n",
       "      <th>7</th>\n",
       "      <td>customer</td>\n",
       "      <td>Luke Hooper</td>\n",
       "      <td>None</td>\n",
       "      <td>vitae.sodales@vitaesodales.ca</td>\n",
       "      <td>Ap #385-5179 Luctus, Road</td>\n",
       "      <td>Germany</td>\n",
       "      <td>3660</td>\n",
       "    </tr>\n",
       "    <tr>\n",
       "      <th>8</th>\n",
       "      <td>employee</td>\n",
       "      <td>Moses Dejesus</td>\n",
       "      <td>1-337-767-2455</td>\n",
       "      <td>pede@donecdignissim.org</td>\n",
       "      <td>Ap #639-9807 Phasellus St.</td>\n",
       "      <td>Germany</td>\n",
       "      <td>903866</td>\n",
       "    </tr>\n",
       "    <tr>\n",
       "      <th>9</th>\n",
       "      <td>customer</td>\n",
       "      <td>Finn Pena</td>\n",
       "      <td>1-746-189-1226</td>\n",
       "      <td>et.euismod.et@ac.ca</td>\n",
       "      <td>Ap #668-4837 Nec Road</td>\n",
       "      <td>Netherlands</td>\n",
       "      <td>32910</td>\n",
       "    </tr>\n",
       "    <tr>\n",
       "      <th>10</th>\n",
       "      <td>employee</td>\n",
       "      <td>Lester Espinoza</td>\n",
       "      <td>1-378-721-6318</td>\n",
       "      <td>vel.nisl.quisque@ad.org</td>\n",
       "      <td>4395 Elit, St.</td>\n",
       "      <td>Chile</td>\n",
       "      <td>07740-64584</td>\n",
       "    </tr>\n",
       "    <tr>\n",
       "      <th>11</th>\n",
       "      <td>employee</td>\n",
       "      <td>Nelle Stafford</td>\n",
       "      <td>1-246-844-4648</td>\n",
       "      <td>ligula@posuere.com</td>\n",
       "      <td>Ap #640-4104 Maecenas St.</td>\n",
       "      <td>Chile</td>\n",
       "      <td>800308</td>\n",
       "    </tr>\n",
       "    <tr>\n",
       "      <th>12</th>\n",
       "      <td>customer</td>\n",
       "      <td>Amber Casey</td>\n",
       "      <td>None</td>\n",
       "      <td>diam@nequeetnunc.com</td>\n",
       "      <td>Ap #944-5570 Nunc. Rd.</td>\n",
       "      <td>Pakistan</td>\n",
       "      <td>154758</td>\n",
       "    </tr>\n",
       "    <tr>\n",
       "      <th>13</th>\n",
       "      <td>customer</td>\n",
       "      <td>Jordan Strong</td>\n",
       "      <td>1-188-391-2011</td>\n",
       "      <td>tincidunt@quamcurabitur.net</td>\n",
       "      <td>Ap #426-2862 Lectus Rd.</td>\n",
       "      <td>United States</td>\n",
       "      <td>37144455</td>\n",
       "    </tr>\n",
       "    <tr>\n",
       "      <th>14</th>\n",
       "      <td>employee</td>\n",
       "      <td>Elton Mcpherson</td>\n",
       "      <td>1-733-172-5377</td>\n",
       "      <td>praesent@tempuseu.co.uk</td>\n",
       "      <td>110-7294 Tempus Road</td>\n",
       "      <td>Belgium</td>\n",
       "      <td>89525</td>\n",
       "    </tr>\n",
       "  </tbody>\n",
       "</table>\n",
       "</div>"
      ],
      "text/plain": [
       "        type               name           phone  \\\n",
       "0   customer       Morgan Sykes  1-183-546-6564   \n",
       "1   employee       Zia Stafford  (621) 483-5714   \n",
       "2   employee     Cooper Ramirez  (716) 895-3353   \n",
       "3   customer  Richard Armstrong  (450) 317-2624   \n",
       "4   employee     Flavia Delaney            None   \n",
       "5   customer  Branden Henderson  1-314-584-1088   \n",
       "6   employee    Hector Kirkland  (325) 535-9750   \n",
       "7   customer        Luke Hooper            None   \n",
       "8   employee      Moses Dejesus  1-337-767-2455   \n",
       "9   customer          Finn Pena  1-746-189-1226   \n",
       "10  employee    Lester Espinoza  1-378-721-6318   \n",
       "11  employee     Nelle Stafford  1-246-844-4648   \n",
       "12  customer        Amber Casey            None   \n",
       "13  customer      Jordan Strong  1-188-391-2011   \n",
       "14  employee    Elton Mcpherson  1-733-172-5377   \n",
       "\n",
       "                                         email  \\\n",
       "0             lorem.auctor@vulputatemauris.net   \n",
       "1                ornare.fusce@felisdonec.co.uk   \n",
       "2   suspendisse@consectetueradipiscingelit.edu   \n",
       "3                      lacinia.mattis@urna.org   \n",
       "4                  rutrum.lorem.ac@inmagna.org   \n",
       "5                  iaculis@felisnullatempor.ca   \n",
       "6                           elit@orcilacus.org   \n",
       "7                vitae.sodales@vitaesodales.ca   \n",
       "8                      pede@donecdignissim.org   \n",
       "9                          et.euismod.et@ac.ca   \n",
       "10                     vel.nisl.quisque@ad.org   \n",
       "11                          ligula@posuere.com   \n",
       "12                        diam@nequeetnunc.com   \n",
       "13                 tincidunt@quamcurabitur.net   \n",
       "14                     praesent@tempuseu.co.uk   \n",
       "\n",
       "                        streetaddress             country    postalZip  \n",
       "0                     2594 Tellus St.  Russian Federation       584585  \n",
       "1               Ap #419-5905 Nibh Rd.         Netherlands         7308  \n",
       "2                 667-4582 Mollis Ave               India        43714  \n",
       "3                Ap #120-495 Ut, Road  Russian Federation        53415  \n",
       "4                    870-3073 Et, Av.             Austria        03247  \n",
       "5   P.O. Box 961, 9477 Gravida Avenue            Pakistan        50217  \n",
       "6              541-4061 Ultricies Ave      United Kingdom         3865  \n",
       "7           Ap #385-5179 Luctus, Road             Germany         3660  \n",
       "8          Ap #639-9807 Phasellus St.             Germany       903866  \n",
       "9               Ap #668-4837 Nec Road         Netherlands        32910  \n",
       "10                     4395 Elit, St.               Chile  07740-64584  \n",
       "11          Ap #640-4104 Maecenas St.               Chile       800308  \n",
       "12             Ap #944-5570 Nunc. Rd.            Pakistan       154758  \n",
       "13            Ap #426-2862 Lectus Rd.       United States     37144455  \n",
       "14               110-7294 Tempus Road             Belgium        89525  "
      ]
     },
     "execution_count": 19,
     "metadata": {},
     "output_type": "execute_result"
    }
   ],
   "source": [
    "#\n",
    "person_data = pd.DataFrame(person_list)\n",
    "person_data"
   ]
  },
  {
   "cell_type": "code",
   "execution_count": 20,
   "id": "329e152a-bb95-48a3-b5ea-6a61ff6ff995",
   "metadata": {},
   "outputs": [
    {
     "data": {
      "text/html": [
       "<div>\n",
       "<style scoped>\n",
       "    .dataframe tbody tr th:only-of-type {\n",
       "        vertical-align: middle;\n",
       "    }\n",
       "\n",
       "    .dataframe tbody tr th {\n",
       "        vertical-align: top;\n",
       "    }\n",
       "\n",
       "    .dataframe thead th {\n",
       "        text-align: right;\n",
       "    }\n",
       "</style>\n",
       "<table border=\"1\" class=\"dataframe\">\n",
       "  <thead>\n",
       "    <tr style=\"text-align: right;\">\n",
       "      <th></th>\n",
       "      <th>type</th>\n",
       "      <th>name</th>\n",
       "      <th>phone</th>\n",
       "      <th>email</th>\n",
       "      <th>streetaddress</th>\n",
       "      <th>country</th>\n",
       "      <th>postalZip</th>\n",
       "    </tr>\n",
       "  </thead>\n",
       "  <tbody>\n",
       "    <tr>\n",
       "      <th>0</th>\n",
       "      <td>customer</td>\n",
       "      <td>Lawrence Burke</td>\n",
       "      <td>(815) 571-8746</td>\n",
       "      <td>vulputate.lacus@elitfermentum.net</td>\n",
       "      <td>P.O. Box 478, 5254 Mi St.</td>\n",
       "      <td>Mexico</td>\n",
       "      <td>22044</td>\n",
       "    </tr>\n",
       "    <tr>\n",
       "      <th>1</th>\n",
       "      <td>employee</td>\n",
       "      <td>Angela Hinton</td>\n",
       "      <td>(997) 412-6965</td>\n",
       "      <td>elit.dictum@egestas.net</td>\n",
       "      <td>696-4409 Nunc Rd.</td>\n",
       "      <td>Germany</td>\n",
       "      <td>661217</td>\n",
       "    </tr>\n",
       "    <tr>\n",
       "      <th>2</th>\n",
       "      <td>customer</td>\n",
       "      <td>Whitney Flowers</td>\n",
       "      <td>1-573-471-9738</td>\n",
       "      <td>consectetuer.adipiscing.elit@ridiculusmus.ca</td>\n",
       "      <td>6978 Et, Av.</td>\n",
       "      <td>Indonesia</td>\n",
       "      <td>28164</td>\n",
       "    </tr>\n",
       "    <tr>\n",
       "      <th>3</th>\n",
       "      <td>customer</td>\n",
       "      <td>Darius Burt</td>\n",
       "      <td>1-675-212-4934</td>\n",
       "      <td>sociis.natoque@ut.org</td>\n",
       "      <td>7705 Ut Street</td>\n",
       "      <td>Indonesia</td>\n",
       "      <td>94783-300</td>\n",
       "    </tr>\n",
       "    <tr>\n",
       "      <th>4</th>\n",
       "      <td>customer</td>\n",
       "      <td>Solomon Blair</td>\n",
       "      <td>None</td>\n",
       "      <td>pede.suspendisse.dui@commodoat.edu</td>\n",
       "      <td>Ap #877-8946 Sociosqu Street</td>\n",
       "      <td>Germany</td>\n",
       "      <td>113513</td>\n",
       "    </tr>\n",
       "  </tbody>\n",
       "</table>\n",
       "</div>"
      ],
      "text/plain": [
       "       type             name           phone  \\\n",
       "0  customer   Lawrence Burke  (815) 571-8746   \n",
       "1  employee    Angela Hinton  (997) 412-6965   \n",
       "2  customer  Whitney Flowers  1-573-471-9738   \n",
       "3  customer      Darius Burt  1-675-212-4934   \n",
       "4  customer    Solomon Blair            None   \n",
       "\n",
       "                                          email                 streetaddress  \\\n",
       "0             vulputate.lacus@elitfermentum.net     P.O. Box 478, 5254 Mi St.   \n",
       "1                       elit.dictum@egestas.net             696-4409 Nunc Rd.   \n",
       "2  consectetuer.adipiscing.elit@ridiculusmus.ca                  6978 Et, Av.   \n",
       "3                         sociis.natoque@ut.org                7705 Ut Street   \n",
       "4            pede.suspendisse.dui@commodoat.edu  Ap #877-8946 Sociosqu Street   \n",
       "\n",
       "     country  postalZip  \n",
       "0     Mexico      22044  \n",
       "1    Germany     661217  \n",
       "2  Indonesia      28164  \n",
       "3  Indonesia  94783-300  \n",
       "4    Germany     113513  "
      ]
     },
     "execution_count": 20,
     "metadata": {},
     "output_type": "execute_result"
    }
   ],
   "source": [
    "record_data =  pd.DataFrame(record_list)\n",
    "record_data"
   ]
  },
  {
   "cell_type": "markdown",
   "id": "5b7b36c4",
   "metadata": {},
   "source": [
    "#### Tehtävä 5. Osalla käyttäjistä puuttuu puhelinnumero. Ilmoita näiden käyttäjien lukumäärä."
   ]
  },
  {
   "cell_type": "code",
   "execution_count": 23,
   "id": "7c1562a4",
   "metadata": {},
   "outputs": [
    {
     "data": {
      "text/plain": [
       "3"
      ]
     },
     "execution_count": 23,
     "metadata": {},
     "output_type": "execute_result"
    }
   ],
   "source": [
    "#\n",
    "person_data[\"phone\"].isna().sum()"
   ]
  },
  {
   "cell_type": "code",
   "execution_count": 24,
   "id": "41d64749-a5f6-49b6-bf86-7990585aa055",
   "metadata": {},
   "outputs": [
    {
     "data": {
      "text/plain": [
       "1"
      ]
     },
     "execution_count": 24,
     "metadata": {},
     "output_type": "execute_result"
    }
   ],
   "source": [
    "record_data[\"phone\"].isna().sum()"
   ]
  },
  {
   "cell_type": "code",
   "execution_count": null,
   "id": "2388f3af-90e7-4c9f-bbb4-dcc4d9ef96a0",
   "metadata": {},
   "outputs": [],
   "source": []
  }
 ],
 "metadata": {
  "interpreter": {
   "hash": "8b50b686190c14b0a5176f7257ee24c43a886d1ffbaa1fefb478a1f90f0f3afb"
  },
  "kernelspec": {
   "display_name": "Python 3 (ipykernel)",
   "language": "python",
   "name": "python3"
  },
  "language_info": {
   "codemirror_mode": {
    "name": "ipython",
    "version": 3
   },
   "file_extension": ".py",
   "mimetype": "text/x-python",
   "name": "python",
   "nbconvert_exporter": "python",
   "pygments_lexer": "ipython3",
   "version": "3.9.13"
  }
 },
 "nbformat": 4,
 "nbformat_minor": 5
}
