{
 "cells": [
  {
   "cell_type": "markdown",
   "metadata": {},
   "source": [
    "# XML-tehtävät"
   ]
  },
  {
   "cell_type": "markdown",
   "metadata": {},
   "source": [
    "#### Tehtävä 1. Lisää tarvittavat kirjastot (xml ja pandas)."
   ]
  },
  {
   "cell_type": "code",
   "execution_count": 3,
   "metadata": {},
   "outputs": [],
   "source": [
    "# "
   ]
  },
  {
   "cell_type": "markdown",
   "metadata": {},
   "source": [
    "#### Tehtävä 2. Tallenna alapuolella esitetty xml-rakenne merkkijonona muuttujaan. Lisäksi lataa toiseen muuttujaan sisältö tiedostosta *users_first.xml*."
   ]
  },
  {
   "cell_type": "code",
   "execution_count": 4,
   "metadata": {},
   "outputs": [],
   "source": [
    "# <?xml version='1.0' encoding='UTF-8'?><records><record type='customer'><name>Lawrence Burke</name><phone>(815) 571-8746</phone><email>vulputate.lacus@elitfermentum.net</email><address><streetaddress>P.O. Box 478, 5254 Mi St.</streetaddress><country>Mexico</country><postalZip>22044</postalZip></address></record><record type='employee'><name>Angela Hinton</name><phone>(997) 412-6965</phone><email>elit.dictum@egestas.net</email><address><streetaddress>696-4409 Nunc Rd.</streetaddress><country>Germany</country><postalZip>661217</postalZip></address></record><record type='customer'><name>Whitney Flowers</name><phone>1-573-471-9738</phone><email>consectetuer.adipiscing.elit@ridiculusmus.ca</email><address><streetaddress>6978 Et, Av.</streetaddress><country>Indonesia</country><postalZip>28164</postalZip></address></record><record type='customer'><name>Darius Burt</name><phone>1-675-212-4934</phone><email>sociis.natoque@ut.org</email><address><streetaddress>7705 Ut Street</streetaddress><country>Indonesia</country><postalZip>94783-300</postalZip></address></record><record type='customer'><name>Solomon Blair</name><phone></phone><email>pede.suspendisse.dui@commodoat.edu</email><address><streetaddress>Ap #877-8946 Sociosqu Street</streetaddress><country>Germany</country><postalZip>113513</postalZip></address></record></records>"
   ]
  },
  {
   "cell_type": "code",
   "execution_count": 5,
   "metadata": {},
   "outputs": [],
   "source": [
    "#"
   ]
  },
  {
   "cell_type": "markdown",
   "metadata": {},
   "source": [
    "#### Tehtävä 3. Muodosta molempien muuttujien sisällöistä listat C1 ja C2, joihin tallennetaan xml-datan sisällöt dictionary-tyyppisinä objekteina. HUOM: record-tasolla esitetyt attribuutit tulee ottaa mukaan objekteihin ja address-tunnisteen alla olevat tunnisteet tulee tuoda ylemmälle tasolle käyttäjän muiden ominaisuuksien kanssa!\n",
    "\n",
    "#### Alapuolella on esitetty malli, jossa ensimmäisen objektin rakenne on esitetty:\n",
    "\n",
    "[{'type': 'customer', 'name': 'Morgan Sykes', 'phone': '1-183-546-6564', 'email': 'lorem.auctor@vulputatemauris.net', 'streetaddress': '2594 Tellus St.', 'country': 'Russian Federation', 'postalZip': '584585'},...]"
   ]
  },
  {
   "cell_type": "code",
   "execution_count": 6,
   "metadata": {},
   "outputs": [],
   "source": [
    "#"
   ]
  },
  {
   "cell_type": "markdown",
   "metadata": {},
   "source": [
    "#### Tehtävä 4. Muunna molemmat listat dataframeiksi ja yhdistä ne lopuksi yhdeksi dataframeksi (muista resetoida uuden dataframen indeksi!). Tulosta muodostetun dataframen sisältö."
   ]
  },
  {
   "cell_type": "code",
   "execution_count": 7,
   "metadata": {},
   "outputs": [],
   "source": [
    "#"
   ]
  },
  {
   "cell_type": "markdown",
   "metadata": {},
   "source": [
    "#### Tehtävä 5. Osalla käyttäjistä puuttuu puhelinnumero. Ilmoita näiden käyttäjien lukumäärä."
   ]
  },
  {
   "cell_type": "code",
   "execution_count": 8,
   "metadata": {},
   "outputs": [],
   "source": [
    "#"
   ]
  }
 ],
 "metadata": {
  "interpreter": {
   "hash": "8b50b686190c14b0a5176f7257ee24c43a886d1ffbaa1fefb478a1f90f0f3afb"
  },
  "kernelspec": {
   "display_name": "Python 3.8.8 64-bit ('base': conda)",
   "name": "python3"
  },
  "language_info": {
   "codemirror_mode": {
    "name": "ipython",
    "version": 3
   },
   "file_extension": ".py",
   "mimetype": "text/x-python",
   "name": "python",
   "nbconvert_exporter": "python",
   "pygments_lexer": "ipython3",
   "version": "3.8.8"
  }
 },
 "nbformat": 4,
 "nbformat_minor": 5
}
